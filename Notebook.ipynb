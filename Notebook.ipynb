{
 "cells": [
  {
   "cell_type": "code",
   "execution_count": null,
   "metadata": {},
   "outputs": [],
   "source": []
  },
  {
   "cell_type": "code",
   "execution_count": null,
   "metadata": {
    "scrolled": true
   },
   "outputs": [],
   "source": []
  },
  {
   "cell_type": "code",
   "execution_count": null,
   "metadata": {
    "scrolled": true
   },
   "outputs": [],
   "source": [
    "\n"
   ]
  },
  {
   "cell_type": "code",
   "execution_count": null,
   "metadata": {},
   "outputs": [],
   "source": []
  },
  {
   "cell_type": "code",
   "execution_count": null,
   "metadata": {
    "scrolled": true
   },
   "outputs": [],
   "source": []
  },
  {
   "cell_type": "code",
   "execution_count": null,
   "metadata": {
    "scrolled": true
   },
   "outputs": [],
   "source": []
  },
  {
   "cell_type": "code",
   "execution_count": null,
   "metadata": {
    "scrolled": true
   },
   "outputs": [],
   "source": []
  },
  {
   "cell_type": "code",
   "execution_count": null,
   "metadata": {
    "scrolled": true
   },
   "outputs": [],
   "source": []
  },
  {
   "cell_type": "code",
   "execution_count": null,
   "metadata": {
    "scrolled": true
   },
   "outputs": [],
   "source": []
  },
  {
   "cell_type": "code",
   "execution_count": null,
   "metadata": {
    "scrolled": true
   },
   "outputs": [],
   "source": []
  },
  {
   "cell_type": "code",
   "execution_count": null,
   "metadata": {
    "scrolled": false
   },
   "outputs": [],
   "source": []
  },
  {
   "cell_type": "code",
   "execution_count": null,
   "metadata": {
    "scrolled": true
   },
   "outputs": [],
   "source": []
  },
  {
   "cell_type": "code",
   "execution_count": null,
   "metadata": {
    "scrolled": false
   },
   "outputs": [],
   "source": []
  },
  {
   "cell_type": "code",
   "execution_count": null,
   "metadata": {
    "scrolled": true
   },
   "outputs": [],
   "source": []
  },
  {
   "cell_type": "code",
   "execution_count": null,
   "metadata": {
    "scrolled": true
   },
   "outputs": [],
   "source": []
  },
  {
   "cell_type": "code",
   "execution_count": null,
   "metadata": {
    "scrolled": true
   },
   "outputs": [],
   "source": [
    "#Section 1 ::: Importing libraries\n",
    "\n",
    "import plotly as py # The library resource for the graph development\n",
    "import plotly.graph_objs as go #This contains the graph object of the plotly like layout\n",
    "import ipywidgets as widget #This library provide widget in iPython which had been used to make plotly graph interative\n",
    "import numpy as np #Numpy has been used in the data cleaning for the data type conversion\n",
    "import pandas as pd #Pandas has been used for the data file import\n",
    "import math #This library resource provide mathematical functions which had been used in the data manupulation for graphs\n",
    "import colorlover as cl # This qualitative data color palette had been used from this library\n",
    "py.offline.init_notebook_mode(connected = True) # To run the plotly graphs offline\n",
    "py.tools.set_credentials_file(username='yogeshgupta', api_key='wMOP1j6DGHTDPNsNkg8K') #Plotly setup(Not required for offline graphs)\n",
    "from IPython.core.display import display, HTML, Image #For adding some HTML in the graph flow\n",
    "\n",
    "\n",
    "\n",
    "\n",
    "\n",
    "\n",
    "#Section 2 ::: Data Cleaning \n",
    "\n",
    "\n",
    "#Importing Data from local csv files using Pandas\n",
    "PopulationData = pd.read_csv(\"/Users/legion y/Desktop\\Visualization on Organisation for Economic Co-operation and Development/Population93-18.csv\")\n",
    "DeathData=pd.read_csv(\"/Users/legion y/Desktop\\Visualization on Organisation for Economic Co-operation and Development/HEALTH_STAT_01122018184305539.csv\")\n",
    "CountryData=pd.read_csv(\"/Users/legion y/Desktop\\Visualization on Organisation for Economic Co-operation and Development/Country_List_ISO_3166_Codes_Latitude_Longitude.csv\")\n",
    "\n",
    "##0. Sorting data by Countries Name\n",
    "PopulationData = PopulationData.sort_values(by = ['Country'])\n",
    "CountryData = CountryData.sort_values(by = ['Country'])\n",
    "\n",
    "##1.Checking for the missing Values in PopulationData\n",
    "PopulationData.isnull().values.any()\n",
    "DeathData.isnull().values.any()\n",
    "CountryData.isnull().values.any()\n",
    "####No Null Data found\n",
    "\n",
    "##2.Data Type Check\n",
    "PopulationData.dtypes\n",
    "DeathData.dtypes\n",
    "CountryData.dtypes\n",
    "###Death Data Value type is different from the population data which will be used :: Need to update\n",
    "\n",
    "\n",
    "##3.Data Scale Check and extra coloumn check\n",
    "PopulationData.head()\n",
    "DeathData.head()\n",
    "###Value of the population is in thousands hence while performing actions it has to taken care.\n",
    "\n",
    "##4.Data interconnectivity check\n",
    "(DeathData['Country'][~DeathData.Country.isin(CountryData.Country)]).unique()\n",
    "(DeathData['Country'][~DeathData.Country.isin(PopulationData.Country)]).unique()\n",
    "(PopulationData['Country'][~PopulationData.Country.isin(CountryData.Country)]).unique()\n",
    "\n",
    "##Fixit for DataType\n",
    "DeathData['Value'] = DeathData['Value'].astype(np.float64)\n",
    "\n",
    "##Fixit for Extra Column Check\n",
    "PopulationData = PopulationData.drop(columns=['Flag Codes','Flags','Subject','SUB','YEA'])\n",
    "\n",
    "#Fixit for interconnectivity\n",
    "DeathData = DeathData[DeathData.Country.isin(CountryData.Country)]\n",
    "DeathData = DeathData[DeathData.Country.isin(PopulationData.Country)]\n",
    "PopulationData = PopulationData[PopulationData.Country.isin(CountryData.Country)]\n",
    "\n",
    "\n",
    "\n",
    "\n",
    "\n",
    "##Section 3 :: Data Visualization\n",
    "## This cell contains the code for the graphs\n",
    "display(HTML(\"<center><h1>Statistics of Deaths by Several Diseases from OECD Data</center>\"))\n",
    "\n",
    "### Assignment of some useful variables\n",
    "DeathCauses = DeathData.Variable.unique()\n",
    "Countries = DeathData.Country.unique()\n",
    "slope = 2.666051223553066e-05\n",
    "\n",
    "##Here begins the Code for the map showing population aka Graph 1, Plotmap\n",
    "\n",
    "#Personal Mapbox_Token need to change it while forking\n",
    "#Get you own access token here 'https://www.mapbox.com/studio/'\n",
    "mapbox_access_token = 'pk.eyJ1IjoiZ2F1cmF2c2hpdmhhcmUiLCJhIjoiY2pwcGw0amRsMGIwOTQybjAxeWVkb3VyayJ9.tbUz32On06X7-YOlTLfVwg'\n",
    "\n",
    "\n",
    "\n",
    "hover_textP = []\n",
    "bubble_sizeP = []\n",
    "\n",
    "##for the customized hover text and bubble size\n",
    "for index, row in PopulationData.iterrows():\n",
    "    hover_textP.append(('Country: {Country}<br>'+\n",
    "                       'Population: {Value} thousand').format(Country=row['Country'],\n",
    "                                                        Value=row['Value']))\n",
    "    bubble_sizeP.append(math.sqrt(row['Value']*slope))\n",
    "    \n",
    "PopulationData['Text'] = hover_textP\n",
    "PopulationData['Size'] = bubble_sizeP\n",
    "\n",
    "### Data trace for the map\n",
    "datamap = [\n",
    "    go.Scattermapbox(\n",
    "        lat=CountryData['Latitude (average)'][CountryData.Country.isin(DeathData['Country'])],\n",
    "        lon=CountryData['Longitude (average)'][CountryData.Country.isin(DeathData['Country'])],\n",
    "        mode='markers',\n",
    "        marker=dict(\n",
    "            sizemode = 'area',\n",
    "            sizeref = 20*max(DeathData['Value'])/100**5,\n",
    "            size= PopulationData['Size'][(PopulationData['Year'] == 2015) & (PopulationData.Country.isin(DeathData['Country']))],\n",
    "            color = '#ff6347',\n",
    "        ),\n",
    "        text=PopulationData['Text'][(PopulationData['Year'] == 2015) & (PopulationData.Country.isin(DeathData['Country']))],\n",
    "    )\n",
    "]\n",
    "\n",
    "### Layout of the map\n",
    "layoutmap = go.Layout(\n",
    "    title= 'Population in the OECD Countries(2015)',\n",
    "    font=dict(family='Gothic', size=18, color='#7f7f7f'),\n",
    "    height = 600,\n",
    "    width = 1000,\n",
    "    autosize=True,\n",
    "    hovermode='closest',\n",
    "    mapbox=dict(\n",
    "        accesstoken=mapbox_access_token,\n",
    "        bearing=5,\n",
    "        center=dict(\n",
    "            lat=10,\n",
    "            lon=62\n",
    "        ),\n",
    "        pitch=0,\n",
    "        zoom=0.7\n",
    "    ),\n",
    ")\n",
    "\n",
    "## Figure definition for the map\n",
    "figmap = dict(data=datamap, layout=layoutmap)\n",
    "plotmap = py.offline.iplot(figmap)\n",
    "##plotmap \n",
    "\n",
    "\n",
    "\n",
    "\n",
    "\n",
    "\n",
    "\n",
    "\n",
    "\n",
    "\n",
    "##Here begins the code for the Time Chart aka Graph2 PlotStack\n",
    "\n",
    "### My color palette that will be using the below graphs\n",
    "#my_color = ['#ff6347','#ffa600','#ff1493','#ffff00','#ff7c43','#f95d6a','#a05195','#665191','#2f4b7c','#003f5c','#191970']\n",
    "#my_color = ['#191970','#003f5c','#2f4b7c','#665191','#a05195','#f95d6a','#ff7c43','#ffff00','#ff1493','#ff6347','#ffa600']\n",
    "my_color = cl.scales['11']['qual']['Set3'] \n",
    "\n",
    "\n",
    "display(HTML(\"<Center><h1>Please choose a country\"))\n",
    "### Function works for the Country Widget  \n",
    "def update_timeseries(country):\n",
    "    timeseriesdata = []\n",
    "    #Layout Definition for Slacked Graph(TimeSeries)\n",
    "    timeseriesLayout = go.Layout(\n",
    "        title = country[0] + ' Death Causes in the Years',\n",
    "        #font=dict(family='Courier New, monospace', size=10, color='#7f7f7f'),\n",
    "        images=[dict(\n",
    "        source=\"https://user-images.githubusercontent.com/35273305/50044042-fbf7b780-0075-11e9-9e12-d8734e2ac1c8.png\",\n",
    "        xref=\"paper\", yref=\"paper\",\n",
    "        x=0.1, y=1,\n",
    "        sizex=0.2, sizey=0.2,\n",
    "        xanchor=\"center\", yanchor=\"bottom\"\n",
    "        )],\n",
    "        xaxis = dict(\n",
    "            title = 'Years',\n",
    "            dtick = 2\n",
    "        ),\n",
    "        yaxis = dict(\n",
    "            title = 'Percentage of People Died in Total Population',\n",
    "            rangemode = 'tozero',\n",
    "            ticksuffix = '%',\n",
    "\n",
    "        ),\n",
    "    )\n",
    "    for A in country:\n",
    "        for i in range(1,len(DeathCauses)):    \n",
    "            #Defining the trace for the Slacked Graph\n",
    "            trace = dict(\n",
    "                x=DeathData['Year'][(DeathData['Country'] == A) & (DeathData['Variable'] == DeathCauses[0])],\n",
    "                y=100 * ((DeathData['Value'][(DeathData['Country'] == A) & (DeathData['Variable'] == DeathCauses[i]) & (DeathData.Year.isin(PopulationData['Year'][(PopulationData['Country'] == A)]))])/(PopulationData['Value'][(PopulationData['Country'] == A) & (PopulationData.Year.isin(DeathData['Year'][(DeathData['Country'] == A) & (DeathData['Variable'] == DeathCauses[0])]))].values*1000)),\n",
    "                hoverinfo='y',\n",
    "                text = 'of total population',\n",
    "                mode='lines',\n",
    "                line=dict(width=0.5,shape = 'spline',color=my_color[i]),\n",
    "                stackgroup='one',\n",
    "                name = DeathCauses[i]\n",
    "            )\n",
    "            timeseriesdata.append(trace)\n",
    "\n",
    "    timeseriesfig = dict(data=timeseriesdata,layout = timeseriesLayout)\n",
    "    py.offline.iplot(timeseriesfig)\n",
    "country = widget.SelectMultiple(options = Countries,value = ('Australia',), description = 'Country :',disabled = False)\n",
    "widget.interactive(update_timeseries,country = country)\n",
    "link2= widget.interactive(update_timeseries,country = country)\n",
    "display(link2)\n",
    "\n",
    "\n",
    "\n",
    "display(HTML(\"<Center><h1>Please choose Cause(s) and Year\"))\n",
    "#Plot for the Countries\n",
    "\n",
    "#slope = 2.666051223553066e-05\n",
    "hover_text = []\n",
    "bubble_size = []\n",
    "\n",
    "for index, row in DeathData.iterrows():\n",
    "    hover_text.append(('Country: {Country}<br>'+\n",
    "                      'Variable: {Variable}<br>'+\n",
    "                      'Deaths: {Value}<br>').format(Country=row['Country'],\n",
    "                                            Variable=row['Variable'],\n",
    "                                            Value=row['Value']))\n",
    "    bubble_size.append(math.sqrt(row['Value']*slope))\n",
    "\n",
    "\n",
    "DeathData['Text'] = hover_text\n",
    "DeathData['Size'] = bubble_size\n",
    "\n",
    "#Interative graph\n",
    "def update_plot(cause,Y):\n",
    "    \n",
    "    data = []\n",
    "    for C in cause:\n",
    "        #Trace for plot\n",
    "        #print(Y)\n",
    "        #print(data)\n",
    "        trace = go.Scatter(\n",
    "       #     y = ((DeathData['Value'][(DeathData['Country'] == Countries[0]) & (DeathData['Year'] == Y)])/(PopulationData['Value'][(PopulationData['Country'] == Countries[0]) & (PopulationData['Year'] == Y)]).values) * 100,\n",
    "            y = 100 * (((DeathData['Value'][(DeathData['Variable'] == C) & (DeathData['Year'] == Y)])/ (DeathData['Value'][( (DeathData['Year'] == Y) & (DeathData['Variable'] == DeathCauses[0]))]).values)),\n",
    "            x = DeathData['Country'][(DeathData['Variable'] == C) & (DeathData['Year'] == Y)],\n",
    "            mode = 'markers',\n",
    "            #hoverinfo = text,\n",
    "            name = C,\n",
    "            text = (DeathData['Text'][(DeathData['Variable'] == C) & (DeathData['Year'] == Y)]),\n",
    "            marker=dict(\n",
    "                #color = my_color,\n",
    "                sizemode = 'area',\n",
    "                sizeref = 5*max(DeathData['Value'])/100**5,\n",
    "                size = DeathData['Size'][(DeathData['Variable'] == C) & (DeathData['Year'] == Y)],\n",
    "                line = dict(\n",
    "                            width = 2\n",
    "                ),\n",
    "            )\n",
    "        )\n",
    "        data.append(trace)\n",
    "        #print(data)\n",
    "    fig = go.Figure(data=data,layout=layout)\n",
    "    py.offline.iplot(fig,filename = 'Plot1.html')\n",
    "    #display(HTML(\"<object data=\\\"\"+'Plot1.html'+\"\\\" width=\\\"650\\\" height=\\\"500\\\"></object>\"+\"\\n\"))\n",
    "   # fichier_html_graphs.write(\"  <object data=\\\"\"+'Plot1.html'+\"\\\" width=\\\"650\\\" height=\\\"500\\\"></object>\"+\"\\n\"+\"Hello\")\n",
    "    \n",
    "    \n",
    "layout = go.Layout(\n",
    "    title = 'Health in the World',\n",
    "   # width = 1000,\n",
    "   # height = 600,\n",
    "    xaxis = dict(\n",
    "     #   title = 'Causes of Death',\n",
    "        automargin = True,\n",
    "    ),\n",
    "    yaxis = dict(\n",
    "        title='Percentage of Total Death',\n",
    "        tickmode = 'linear',\n",
    "        dtick = 2,\n",
    "        ticksuffix = '%'\n",
    "        #autorange = False,\n",
    "    ),\n",
    "    showlegend = False,\n",
    "    legend = dict(\n",
    "        x= 0,\n",
    "        y= 1.1,\n",
    "        orientation = \"h\"\n",
    "    ),\n",
    ")\n",
    "\n",
    "\n",
    "\n",
    "#Year Line\n",
    "Year = widget.IntSlider(min = 1993, max = 2016,value = 2012, description = 'Year', layout = widget.Layout(width = '1000px',font=dict(size=1)))\n",
    "#Year = widget.SelectMultiple(options = list(range(1993,2019)),value = (1999, ), description = 'Year', layout = widget.Layout(width = '140px',font=dict(size=1)))\n",
    "#Year.style.button_width = '65px'\n",
    "#display(Year)\n",
    "#Year = widget.Select(options = list(range(1993,2019),value = 1999, description = 'Year', layout = widget.Layout(width = '1000px',font=dict(size=1)))\n",
    "\n",
    "#Cause = widget.SelectMultiple(options = DeathCauses, description = 'Cause of Death'),#, layout = widget.Layout(width = '140px',font=dict(size=1)))\n",
    "Cause = widget.SelectMultiple(options = DeathCauses[1:11],value = (DeathCauses[1], ), description = 'Cause(s):', layout = widget.Layout(width = '500px',description_width = '500px',marginleft = '100px',alignment = 'center'))\n",
    "\n",
    "\n",
    "\n",
    "link = widget.interactive(update_plot,Y=Year,cause = Cause)\n",
    "#fichier_html_graphs.write(\"</body></html>\")\n",
    "#print(\"CHECK YOUR DASHBOARD.html In the current directory\")\n",
    "\n",
    "display(link)"
   ]
  },
  {
   "cell_type": "code",
   "execution_count": null,
   "metadata": {},
   "outputs": [],
   "source": []
  },
  {
   "cell_type": "code",
   "execution_count": null,
   "metadata": {},
   "outputs": [],
   "source": []
  },
  {
   "cell_type": "code",
   "execution_count": null,
   "metadata": {
    "scrolled": true
   },
   "outputs": [],
   "source": []
  },
  {
   "cell_type": "code",
   "execution_count": null,
   "metadata": {
    "scrolled": true
   },
   "outputs": [],
   "source": []
  },
  {
   "cell_type": "code",
   "execution_count": null,
   "metadata": {
    "scrolled": true
   },
   "outputs": [],
   "source": []
  },
  {
   "cell_type": "code",
   "execution_count": null,
   "metadata": {
    "scrolled": true
   },
   "outputs": [],
   "source": []
  },
  {
   "cell_type": "code",
   "execution_count": null,
   "metadata": {
    "scrolled": true
   },
   "outputs": [],
   "source": []
  },
  {
   "cell_type": "code",
   "execution_count": null,
   "metadata": {
    "scrolled": true
   },
   "outputs": [],
   "source": []
  },
  {
   "cell_type": "code",
   "execution_count": null,
   "metadata": {
    "scrolled": true
   },
   "outputs": [],
   "source": []
  },
  {
   "cell_type": "code",
   "execution_count": null,
   "metadata": {
    "scrolled": true
   },
   "outputs": [],
   "source": []
  },
  {
   "cell_type": "code",
   "execution_count": null,
   "metadata": {
    "scrolled": true
   },
   "outputs": [],
   "source": []
  },
  {
   "cell_type": "code",
   "execution_count": null,
   "metadata": {
    "scrolled": true
   },
   "outputs": [],
   "source": []
  },
  {
   "cell_type": "code",
   "execution_count": null,
   "metadata": {
    "scrolled": true
   },
   "outputs": [],
   "source": []
  },
  {
   "cell_type": "code",
   "execution_count": null,
   "metadata": {
    "scrolled": true
   },
   "outputs": [],
   "source": []
  },
  {
   "cell_type": "code",
   "execution_count": null,
   "metadata": {
    "scrolled": true
   },
   "outputs": [],
   "source": []
  },
  {
   "cell_type": "code",
   "execution_count": null,
   "metadata": {
    "scrolled": true
   },
   "outputs": [],
   "source": []
  },
  {
   "cell_type": "code",
   "execution_count": null,
   "metadata": {
    "scrolled": true
   },
   "outputs": [],
   "source": []
  },
  {
   "cell_type": "code",
   "execution_count": null,
   "metadata": {
    "scrolled": true
   },
   "outputs": [],
   "source": []
  },
  {
   "cell_type": "code",
   "execution_count": null,
   "metadata": {
    "scrolled": true
   },
   "outputs": [],
   "source": []
  },
  {
   "cell_type": "code",
   "execution_count": null,
   "metadata": {
    "scrolled": true
   },
   "outputs": [],
   "source": []
  },
  {
   "cell_type": "code",
   "execution_count": null,
   "metadata": {
    "scrolled": true
   },
   "outputs": [],
   "source": []
  },
  {
   "cell_type": "code",
   "execution_count": null,
   "metadata": {
    "scrolled": true
   },
   "outputs": [],
   "source": []
  },
  {
   "cell_type": "code",
   "execution_count": null,
   "metadata": {
    "scrolled": true
   },
   "outputs": [],
   "source": []
  },
  {
   "cell_type": "code",
   "execution_count": null,
   "metadata": {
    "scrolled": true
   },
   "outputs": [],
   "source": []
  },
  {
   "cell_type": "code",
   "execution_count": null,
   "metadata": {
    "scrolled": true
   },
   "outputs": [],
   "source": []
  },
  {
   "cell_type": "code",
   "execution_count": null,
   "metadata": {
    "scrolled": true
   },
   "outputs": [],
   "source": []
  },
  {
   "cell_type": "code",
   "execution_count": null,
   "metadata": {
    "scrolled": true
   },
   "outputs": [],
   "source": []
  },
  {
   "cell_type": "code",
   "execution_count": null,
   "metadata": {
    "scrolled": true
   },
   "outputs": [],
   "source": []
  },
  {
   "cell_type": "code",
   "execution_count": null,
   "metadata": {
    "scrolled": true
   },
   "outputs": [],
   "source": []
  },
  {
   "cell_type": "code",
   "execution_count": null,
   "metadata": {
    "scrolled": true
   },
   "outputs": [],
   "source": []
  },
  {
   "cell_type": "code",
   "execution_count": null,
   "metadata": {
    "scrolled": true
   },
   "outputs": [],
   "source": []
  },
  {
   "cell_type": "code",
   "execution_count": null,
   "metadata": {
    "scrolled": true
   },
   "outputs": [],
   "source": []
  },
  {
   "cell_type": "code",
   "execution_count": null,
   "metadata": {
    "scrolled": true
   },
   "outputs": [],
   "source": []
  },
  {
   "cell_type": "code",
   "execution_count": null,
   "metadata": {
    "scrolled": true
   },
   "outputs": [],
   "source": []
  },
  {
   "cell_type": "code",
   "execution_count": null,
   "metadata": {
    "scrolled": true
   },
   "outputs": [],
   "source": []
  },
  {
   "cell_type": "code",
   "execution_count": null,
   "metadata": {
    "scrolled": true
   },
   "outputs": [],
   "source": []
  },
  {
   "cell_type": "code",
   "execution_count": null,
   "metadata": {
    "scrolled": true
   },
   "outputs": [],
   "source": []
  },
  {
   "cell_type": "code",
   "execution_count": null,
   "metadata": {
    "scrolled": true
   },
   "outputs": [],
   "source": []
  },
  {
   "cell_type": "code",
   "execution_count": null,
   "metadata": {
    "scrolled": true
   },
   "outputs": [],
   "source": []
  },
  {
   "cell_type": "code",
   "execution_count": null,
   "metadata": {
    "scrolled": true
   },
   "outputs": [],
   "source": []
  },
  {
   "cell_type": "code",
   "execution_count": null,
   "metadata": {
    "scrolled": true
   },
   "outputs": [],
   "source": []
  },
  {
   "cell_type": "code",
   "execution_count": null,
   "metadata": {
    "scrolled": true
   },
   "outputs": [],
   "source": []
  },
  {
   "cell_type": "code",
   "execution_count": null,
   "metadata": {
    "scrolled": true
   },
   "outputs": [],
   "source": []
  },
  {
   "cell_type": "code",
   "execution_count": null,
   "metadata": {
    "scrolled": true
   },
   "outputs": [],
   "source": []
  },
  {
   "cell_type": "code",
   "execution_count": null,
   "metadata": {
    "scrolled": true
   },
   "outputs": [],
   "source": []
  },
  {
   "cell_type": "code",
   "execution_count": null,
   "metadata": {
    "scrolled": true
   },
   "outputs": [],
   "source": []
  },
  {
   "cell_type": "code",
   "execution_count": null,
   "metadata": {
    "scrolled": true
   },
   "outputs": [],
   "source": []
  },
  {
   "cell_type": "code",
   "execution_count": null,
   "metadata": {
    "scrolled": true
   },
   "outputs": [],
   "source": []
  },
  {
   "cell_type": "code",
   "execution_count": null,
   "metadata": {
    "scrolled": true
   },
   "outputs": [],
   "source": []
  },
  {
   "cell_type": "code",
   "execution_count": null,
   "metadata": {
    "scrolled": true
   },
   "outputs": [],
   "source": []
  },
  {
   "cell_type": "code",
   "execution_count": null,
   "metadata": {
    "scrolled": true
   },
   "outputs": [],
   "source": []
  },
  {
   "cell_type": "code",
   "execution_count": null,
   "metadata": {
    "scrolled": true
   },
   "outputs": [],
   "source": []
  },
  {
   "cell_type": "code",
   "execution_count": null,
   "metadata": {
    "scrolled": true
   },
   "outputs": [],
   "source": []
  },
  {
   "cell_type": "code",
   "execution_count": null,
   "metadata": {
    "scrolled": true
   },
   "outputs": [],
   "source": []
  },
  {
   "cell_type": "code",
   "execution_count": null,
   "metadata": {
    "scrolled": true
   },
   "outputs": [],
   "source": []
  },
  {
   "cell_type": "code",
   "execution_count": null,
   "metadata": {},
   "outputs": [],
   "source": []
  }
 ],
 "metadata": {
  "kernelspec": {
   "display_name": "Python 3",
   "language": "python",
   "name": "python3"
  },
  "language_info": {
   "codemirror_mode": {
    "name": "ipython",
    "version": 3
   },
   "file_extension": ".py",
   "mimetype": "text/x-python",
   "name": "python",
   "nbconvert_exporter": "python",
   "pygments_lexer": "ipython3",
   "version": "3.7.3"
  }
 },
 "nbformat": 4,
 "nbformat_minor": 2
}
